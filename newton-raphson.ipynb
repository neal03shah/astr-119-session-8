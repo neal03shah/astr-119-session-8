{
 "cells": [
  {
   "cell_type": "markdown",
   "id": "0720cebc",
   "metadata": {},
   "source": [
    "# A Newton-Raphson Root finding implementation"
   ]
  },
  {
   "cell_type": "code",
   "execution_count": null,
   "id": "35948ab6",
   "metadata": {},
   "outputs": [],
   "source": [
    "%matplotlib inline\n",
    "import numpy as np\n",
    "import matplotlib.pyplot as plt"
   ]
  },
  {
   "cell_type": "markdown",
   "id": "7e4b14be",
   "metadata": {},
   "source": [
    "### define the function for root finding"
   ]
  },
  {
   "cell_type": "code",
   "execution_count": null,
   "id": "189ba268",
   "metadata": {},
   "outputs": [],
   "source": [
    "def function_for_root(x):\n",
    "    a = 1.01\n",
    "    b = -3.04\n",
    "    c = 2.07\n",
    "    return a*x**2 + b*x + c"
   ]
  },
  {
   "cell_type": "markdown",
   "id": "2a6093ef",
   "metadata": {},
   "source": [
    "### define the derivative for root finding"
   ]
  },
  {
   "cell_type": "code",
   "execution_count": null,
   "id": "b1a7cda0",
   "metadata": {},
   "outputs": [],
   "source": [
    "def derivative_for_root(x):\n",
    "    a = 1.01\n",
    "    b = -3.04\n",
    "    return 2*a*x + b"
   ]
  },
  {
   "cell_type": "markdown",
   "id": "c900dd65",
   "metadata": {},
   "source": [
    "## Define a work function"
   ]
  },
  {
   "cell_type": "code",
   "execution_count": null,
   "id": "d2c67962",
   "metadata": {},
   "outputs": [],
   "source": [
    "def newton_raphson_root_finding(f, dfdx, x_start, tol):\n",
    "    \n",
    "    # this function uses newton-raphson to find a root\n",
    "    \n",
    "    \n",
    "    # set a flag\n",
    "    flag = 1\n",
    "    \n",
    "    #set a maximum number of iterations\n",
    "    imax = 10000\n",
    "    \n",
    "    #start a counter\n",
    "    i = 0\n",
    "    \n",
    "    # define the new and old guess for the root\n",
    "    x_old = x_start\n",
    "    x_new = 0.0\n",
    "    y_new = 0.0\n",
    "    \n",
    "    #start the loop\n",
    "    while(flag):\n",
    "        \n",
    "        #make a new guess\n",
    "        x_new = x_old - f(x_old)/dfdx(x_old)\n",
    "        \n",
    "        #print out the iteration\n",
    "        print(x_new, x_old, f(x_old), dfdx(x_old))\n",
    "        \n",
    "        #if the abs value of the new function value\n",
    "        #is < tol then stop\n",
    "        y_new = f(x_new)\n",
    "        \n",
    "        if(np.fabs(y_new)<tol):\n",
    "            flag = 0 #stop the iteration\n",
    "        else:\n",
    "            #save the result\n",
    "            x_old = x_new\n",
    "            \n",
    "            #increment the iteration\n",
    "            \n",
    "        #check for max iterations\n",
    "        if(i>=imax):\n",
    "            print(\"Max iterations reached.\")\n",
    "            raise StopIteration('Stopping iterations after ',i)\n",
    "            \n",
    "        #end of while loop\n",
    "    #outside of while loop\n",
    "    \n",
    "    #we are done!\n",
    "    return x_new"
   ]
  },
  {
   "cell_type": "markdown",
   "id": "e1abce7d",
   "metadata": {},
   "source": [
    "### Perform the search"
   ]
  },
  {
   "cell_type": "code",
   "execution_count": null,
   "id": "0a651857",
   "metadata": {},
   "outputs": [],
   "source": [
    "x_start = 0.5\n",
    "tolerance = 1.0e-6\n",
    "\n",
    "#print the initial guess\n",
    "print(x_start, function_for_root(x_start))\n",
    "\n",
    "x_root = newton_raphson_root_finding(function_for_root, derivative_for_root, x_start, tolerance)\n",
    "\n",
    "y_root = function_for_root(x_root)\n",
    "\n",
    "s = \"Root found with y(%f) = %f\" %(x_root,y_root)\n",
    "print(s)"
   ]
  },
  {
   "cell_type": "code",
   "execution_count": null,
   "id": "23c15790",
   "metadata": {},
   "outputs": [],
   "source": []
  }
 ],
 "metadata": {
  "kernelspec": {
   "display_name": "Python 3 (ipykernel)",
   "language": "python",
   "name": "python3"
  },
  "language_info": {
   "codemirror_mode": {
    "name": "ipython",
    "version": 3
   },
   "file_extension": ".py",
   "mimetype": "text/x-python",
   "name": "python",
   "nbconvert_exporter": "python",
   "pygments_lexer": "ipython3",
   "version": "3.9.7"
  }
 },
 "nbformat": 4,
 "nbformat_minor": 5
}
